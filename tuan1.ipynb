{
  "cells": [
    {
      "cell_type": "markdown",
      "metadata": {
        "id": "view-in-github",
        "colab_type": "text"
      },
      "source": [
        "<a href=\"https://colab.research.google.com/github/25021821/btvn/blob/master/tuan1.ipynb\" target=\"_parent\"><img src=\"https://colab.research.google.com/assets/colab-badge.svg\" alt=\"Open In Colab\"/></a>"
      ]
    },
    {
      "cell_type": "code",
      "execution_count": null,
      "id": "3c1f3a2f",
      "metadata": {
        "id": "3c1f3a2f"
      },
      "outputs": [],
      "source": [
        "print(\"Hello World!\")"
      ]
    },
    {
      "cell_type": "code",
      "source": [
        "you = input()\n",
        "if you == \"Phan Tuấn Kiệt\":\n",
        "\trobot_brain = \"Chào mừng bạn\"\n",
        "print(robot_brain)"
      ],
      "metadata": {
        "colab": {
          "base_uri": "https://localhost:8080/"
        },
        "id": "KKSt-kZDrDEl",
        "outputId": "a7d7a5f2-4642-49da-d39a-bec872541c28"
      },
      "id": "KKSt-kZDrDEl",
      "execution_count": 2,
      "outputs": [
        {
          "output_type": "stream",
          "name": "stdout",
          "text": [
            "Phan Tuấn Kiệt\n",
            "Chào mừng bạn\n"
          ]
        }
      ]
    },
    {
      "cell_type": "code",
      "source": [
        "a = int(input(\"Nhập số nguyên a: \"))\n",
        "b = int(input(\"Nhập số nguyên b: \"))\n",
        "\n",
        "tong = a + b\n",
        "hieu = a - b\n",
        "tich = a * b\n",
        "phan_nguyen = a // b\n",
        "phan_du = a % b\n",
        "chia_thuc = round(a / b, 2)\n",
        "\n",
        "print(\"Tổng:\", tong)\n",
        "print(\"Hiệu:\", hieu)\n",
        "print(\"Tích:\", tich)\n",
        "print(\"Phần nguyên:\", phan_nguyen)\n",
        "print(\"Phần dư:\", phan_du)\n",
        "print(\"Chia thực (lấy 2 chữ số thập phân):\", chia_thuc)"
      ],
      "metadata": {
        "id": "S1F0SFXQrUQC"
      },
      "id": "S1F0SFXQrUQC",
      "execution_count": null,
      "outputs": []
    },
    {
      "cell_type": "code",
      "source": [
        "scores=input().split()\n",
        "[a1, b1, c1, a2, b2, a3] = map(float, scores)\n",
        "tb=((a1+b1+c1)+(a2+b2)*2+a3*3)/10\n",
        "print(f\"{tb:.1f}\")"
      ],
      "metadata": {
        "id": "zufoFmhCrUVe"
      },
      "id": "zufoFmhCrUVe",
      "execution_count": null,
      "outputs": []
    },
    {
      "cell_type": "code",
      "source": [
        "a, b = map(int, input(\"Nhập hai số a và b (cách nhau 1 dấu cách): \").split())\n",
        "\n",
        "ket_qua = a ** b\n",
        "\n",
        "print(f\"{a} ** {b} = {ket_qua}\")"
      ],
      "metadata": {
        "id": "PxC-Eb0irUXx"
      },
      "id": "PxC-Eb0irUXx",
      "execution_count": null,
      "outputs": []
    },
    {
      "cell_type": "code",
      "source": [
        "ch = input(\"Nhập một ký tự thường (a-z): \")\n",
        "code_point = ord(ch)\n",
        "hex_code = hex(code_point)\n",
        "print(\"Mã Unicode dạng hex:\",hex_code)\n",
        "print(\"Mã Unicode dạng thập phân:\", ord(ch))\n",
        "ch_hoa = ch.upper()\n",
        "print(\"Ký tự hoa:\", ch_hoa)"
      ],
      "metadata": {
        "id": "xLaZ5S-1rUZ7"
      },
      "id": "xLaZ5S-1rUZ7",
      "execution_count": null,
      "outputs": []
    },
    {
      "cell_type": "code",
      "source": [
        "A = ((13 ** 2) * 3) + 5\n",
        "B = 13 ** 2 * 3 + 5\n",
        "\n",
        "print(\"A =\", A)\n",
        "print(\"B =\", B)\n"
      ],
      "metadata": {
        "id": "U7rRD-0irUcM"
      },
      "id": "U7rRD-0irUcM",
      "execution_count": null,
      "outputs": []
    },
    {
      "cell_type": "code",
      "source": [
        "try:\n",
        "    c = float(input(\"Nhập nhiệt độ °C: \"))\n",
        "    f = 9/5 * c + 32\n",
        "    print(f\"Độ °F: {f:.2f}\")\n",
        "except ValueError:\n",
        "    print(\"Vui lòng nhập giá trị khác\")"
      ],
      "metadata": {
        "id": "H22XDlH4rhxJ"
      },
      "id": "H22XDlH4rhxJ",
      "execution_count": null,
      "outputs": []
    },
    {
      "cell_type": "code",
      "source": [
        "x = float(input(\"Nhập giá (USD): \"))\n",
        "phi_vanchuyen = 10\n",
        "gia_truoc_thue = x + phi_vanchuyen\n",
        "thue = gia_truoc_thue * (0.30 + 0.10)\n",
        "tong_tien = gia_truoc_thue + thue\n",
        "print(f\"Tổng số tiền phải trả: {tong_tien:.2f} USD\")\n"
      ],
      "metadata": {
        "id": "0oKV8fDjrh8v"
      },
      "id": "0oKV8fDjrh8v",
      "execution_count": null,
      "outputs": []
    },
    {
      "cell_type": "code",
      "source": [
        "names = input(\"Nhập 3 tên cách nhau bằng dấu cách: \").split()\n",
        "names.reverse()\n",
        "print(f\"Hi {names[0]}, {names[1]} and {names[2]}.\")\n"
      ],
      "metadata": {
        "id": "g51iCFx8rh-v"
      },
      "id": "g51iCFx8rh-v",
      "execution_count": null,
      "outputs": []
    },
    {
      "cell_type": "code",
      "source": [
        "h = int(input(\"Nhập số giờ: \"))\n",
        "m = int(input(\"Nhập số phút: \"))\n",
        "s = h * 3600 + m * 60\n",
        "print(\"Tổng số giây là:\", s)\n"
      ],
      "metadata": {
        "id": "04iQA0wtriBD"
      },
      "id": "04iQA0wtriBD",
      "execution_count": null,
      "outputs": []
    },
    {
      "cell_type": "code",
      "source": [
        "n = int(input(\"Nhập độ dài cạnh Rubik: \"))\n",
        "dan = 6 * (n ** 2)\n",
        "print(\"Số miếng dán cần là:\", dan)\n"
      ],
      "metadata": {
        "id": "rVG6ZEhRriFR"
      },
      "id": "rVG6ZEhRriFR",
      "execution_count": null,
      "outputs": []
    },
    {
      "cell_type": "code",
      "source": [
        "a = int(input(\"Nhập số a: \"))\n",
        "b = int(input(\"Nhập số b: \"))\n",
        "tich = a * b\n",
        "hang_don_vi = tich % 10\n",
        "print(\"Hàng đơn vị của tích a * b là:\", hang_don_vi)\n"
      ],
      "metadata": {
        "id": "LH3_mss9sIYM"
      },
      "id": "LH3_mss9sIYM",
      "execution_count": null,
      "outputs": []
    },
    {
      "cell_type": "code",
      "source": [
        "a = int(input(\"Nhập số a: \"))\n",
        "b = int(input(\"Nhập số b: \"))\n",
        "a, b = b, a\n",
        "print(\"Sau khi hoán đổi: a =\", a, \", b =\", b)\n"
      ],
      "metadata": {
        "id": "ZCId63d0sIaX"
      },
      "id": "ZCId63d0sIaX",
      "execution_count": null,
      "outputs": []
    },
    {
      "cell_type": "code",
      "source": [
        "n = int(input(\"Nhập số n: \"))\n",
        "so_sao = 3 * n * (n - 1) + 1\n",
        "print(f\"Số sao thứ {n} là:\", so_sao)\n"
      ],
      "metadata": {
        "id": "OffVGqRqsIcM"
      },
      "id": "OffVGqRqsIcM",
      "execution_count": null,
      "outputs": []
    },
    {
      "cell_type": "code",
      "source": [
        "print(\"Spring\\nSummer\\nAutumn\\nWinter\")"
      ],
      "metadata": {
        "id": "-4kyWSrKsIeB"
      },
      "id": "-4kyWSrKsIeB",
      "execution_count": null,
      "outputs": []
    },
    {
      "cell_type": "code",
      "source": [
        "print(\"*\")\n",
        "print(\"**\")\n",
        "print(\"***\")"
      ],
      "metadata": {
        "id": "iIuGNvsGsIiI"
      },
      "id": "iIuGNvsGsIiI",
      "execution_count": null,
      "outputs": []
    },
    {
      "cell_type": "code",
      "source": [
        "print(\"###  # #  ### ###\")\n",
        "print(\" #   #  #  #   #\")\n",
        "print(\" #   #   # #   #\")\n",
        "print(\" #   #  #  #   #\")\n",
        "print(\" #   ##    #   #\")"
      ],
      "metadata": {
        "id": "K-LFEFYEsIkk"
      },
      "id": "K-LFEFYEsIkk",
      "execution_count": null,
      "outputs": []
    },
    {
      "cell_type": "code",
      "source": [
        "sequence = ['Monday', 'Tuesday','Wednesday', 'Thursday', 'Friday', 'Saturday', 'Sunday']\n",
        "for i in sequence:\n",
        "    print (i)"
      ],
      "metadata": {
        "id": "6q_gTBxwsImg"
      },
      "id": "6q_gTBxwsImg",
      "execution_count": null,
      "outputs": []
    },
    {
      "cell_type": "code",
      "source": [
        "sequence = ['January', 'Feburary','March', 'April', 'May', 'June', 'July', 'August', 'Suptember', 'October', 'November', 'December']\n",
        "for i in sequence:\n",
        "    print (i)"
      ],
      "metadata": {
        "id": "k7jKyyNgsIoX"
      },
      "id": "k7jKyyNgsIoX",
      "execution_count": null,
      "outputs": []
    },
    {
      "cell_type": "code",
      "source": [
        "for i in range(10):\n",
        "    print(\"Hello, world\")\n"
      ],
      "metadata": {
        "id": "tEdeg8mTsIqx"
      },
      "id": "tEdeg8mTsIqx",
      "execution_count": null,
      "outputs": []
    }
  ],
  "metadata": {
    "jupytext": {
      "cell_metadata_filter": "-all",
      "main_language": "python",
      "notebook_metadata_filter": "-all"
    },
    "colab": {
      "provenance": [],
      "include_colab_link": true
    },
    "language_info": {
      "name": "python"
    },
    "kernelspec": {
      "name": "python3",
      "display_name": "Python 3"
    }
  },
  "nbformat": 4,
  "nbformat_minor": 5
}